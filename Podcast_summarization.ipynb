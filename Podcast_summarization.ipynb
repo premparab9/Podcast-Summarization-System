{
  "cells": [
    {
      "cell_type": "code",
      "execution_count": null,
      "metadata": {
        "id": "Hd7vRbo6Ad9u"
      },
      "outputs": [],
      "source": [
        "import time\n",
        "import requests\n",
        "from transformers import BartTokenizer, BartForConditionalGeneration\n",
        "import json\n",
        "import pprint"
      ]
    },
    {
      "cell_type": "code",
      "execution_count": null,
      "metadata": {
        "id": "P2OGj5BZAk13"
      },
      "outputs": [],
      "source": [
        "# from secrets import API_KEY_LISTENNOTES, API_KEY_ASSEMBLYAI\n",
        "API_KEY_LISTENNOTES = 'Enter Your Api Key'    #this is the api key  of my account listennotes.com\n",
        "API_KEY_ASSEMBLYAI = 'Enter your Api Key'        # this is the api key of my account assembly ai\n",
        "\n",
        "Listennotees_episode_endpoint = 'https://listen-api.listennotes.com/api/v2/episodes'\n",
        "headers_listennotes = {\n",
        "    'X-ListenAPI-Key': API_KEY_LISTENNOTES\n",
        "}"
      ]
    },
    {
      "cell_type": "code",
      "execution_count": null,
      "metadata": {
        "id": "uxn4lUhOAtYE"
      },
      "outputs": [],
      "source": [
        "transcript_endpoint = 'https://api.assemblyai.com/v2/transcript'"
      ]
    },
    {
      "cell_type": "code",
      "execution_count": null,
      "metadata": {
        "id": "Lw_bnExGAvjo"
      },
      "outputs": [],
      "source": [
        "headers_assemblyai = {\n",
        "    \"authorization\": API_KEY_ASSEMBLYAI,\n",
        "    \"content-type\": \"application/json\"\n",
        "}"
      ]
    },
    {
      "cell_type": "code",
      "execution_count": null,
      "metadata": {
        "id": "HJ7MepJ9Aw5q"
      },
      "outputs": [],
      "source": [
        "def get_episode_audio_url(episode_id):\n",
        "  url = Listennotees_episode_endpoint + '/' + episode_id\n",
        "  response = requests.request('GET', url, headers=headers_listennotes)\n",
        "  data = response.json()\n",
        "  # pprint.pprint(data)\n",
        "\n",
        "  if 'podcast' in data:\n",
        "    podcast_title = data[\"podcast\"]['title']\n",
        "  else:\n",
        "    podcast_title = None\n",
        "\n",
        "  if 'title' in data:\n",
        "    episode_title = data['title']\n",
        "  else:\n",
        "    episode_title = None\n",
        "\n",
        "  if 'thumbnail' in data:\n",
        "    thumbnail = data['thumbnail']\n",
        "  else:\n",
        "    thumbnail = None\n",
        "\n",
        "  if 'audio' in data:\n",
        "    audio = data['audio']\n",
        "  else:\n",
        "    audio = None\n",
        "\n",
        "  return audio, thumbnail, podcast_title, episode_title"
      ]
    },
    {
      "cell_type": "code",
      "execution_count": null,
      "metadata": {
        "id": "zwH0i7Q2AyIu"
      },
      "outputs": [],
      "source": [
        "def transcribe(audio_url, auto_chapters=False):                   # here we generate the transrcibe of the podcast\n",
        "    transcript_request = {\n",
        "      'audio_url': audio_url,\n",
        "      'auto_chapters': 'True' if auto_chapters else 'False'\n",
        "    }\n",
        "\n",
        "    transcript_response = requests.post(transcript_endpoint, json=transcript_request, headers=headers_assemblyai)\n",
        "    pprint.pprint(transcript_response.json())\n",
        "    return transcript_response.json()['id']"
      ]
    },
    {
      "cell_type": "code",
      "execution_count": null,
      "metadata": {
        "id": "r4kVgTdxA0Mo"
      },
      "outputs": [],
      "source": [
        "#lets put here some optional keyword arguments in poll\n",
        "def poll(transcript_id, **kwargs):\n",
        "  polling_endpoint = transcript_endpoint + '/' + transcript_id\n",
        "  polling_response = requests.get(polling_endpoint, headers=headers_assemblyai)\n",
        "\n",
        "  if polling_response.json()['status'] == 'completed':\n",
        "    filename = transcript_id + '.txt'                   # this file is use for transcription\n",
        "    with open('transcript.txt', 'w') as f:\n",
        "      f.write(polling_response.json()['text'])\n",
        "\n",
        "    filename = transcript_id + '_chapters.json'           #in our json file we want to add more information\n",
        "    with open('transcript_chapters.json', 'w') as f:                           #this for the auto chapter\n",
        "      chapters = polling_response.json()['chapters']\n",
        "\n",
        "      #create some dictionary\n",
        "      data = {'chapters': chapters}\n",
        "      for key , value in kwargs.items():\n",
        "        data[key] = value\n",
        "\n",
        "      json.dump(data, f, indent=4)\n",
        "\n",
        "    print('Transcript saved')\n",
        "    return  True\n",
        "  return False"
      ]
    },
    {
      "cell_type": "code",
      "execution_count": null,
      "metadata": {
        "id": "mNMQ68mpA1s1"
      },
      "outputs": [],
      "source": [
        "def pipeline(episode_id):\n",
        "  audio, thumbnail, podcast_title, episode_title = get_episode_audio_url(episode_id)    #here is also present the episode id which give podcast details\n",
        "  # print(audio, thumbnail, podcast_title, episode_title)\n",
        "  transcribe_id = transcribe(audio, auto_chapters=True)\n",
        "\n",
        "  while True:\n",
        "    result = poll(transcribe_id, audio=audio, thumbnail=thumbnail, podcast_title=podcast_title,episode_title=episode_title)\n",
        "    if result:\n",
        "      break\n",
        "    print(\"waiting for 60 sec\")\n",
        "    time.sleep(60)"
      ]
    },
    {
      "cell_type": "code",
      "execution_count": null,
      "metadata": {
        "colab": {
          "base_uri": "https://localhost:8080/"
        },
        "id": "d2Sl5F4SA3TM",
        "outputId": "79fc1b7b-7f29-4139-8adf-5f075c8b6464"
      },
      "outputs": [
        {
          "name": "stdout",
          "output_type": "stream",
          "text": [
            "{'acoustic_model': 'assemblyai_default',\n",
            " 'audio_duration': None,\n",
            " 'audio_end_at': None,\n",
            " 'audio_start_from': None,\n",
            " 'audio_url': 'https://audio.listennotes.com/e/p/20bf194224434ebbba8462ea8136cc3d/',\n",
            " 'auto_chapters': 'True',\n",
            " 'auto_highlights': False,\n",
            " 'auto_highlights_result': None,\n",
            " 'boost_param': None,\n",
            " 'chapters': None,\n",
            " 'confidence': None,\n",
            " 'content_safety': False,\n",
            " 'content_safety_labels': {},\n",
            " 'custom_spelling': None,\n",
            " 'custom_topics': False,\n",
            " 'custom_topics_results': None,\n",
            " 'disfluencies': False,\n",
            " 'dual_channel': None,\n",
            " 'entities': None,\n",
            " 'entity_detection': False,\n",
            " 'filter_profanity': False,\n",
            " 'format_text': True,\n",
            " 'iab_categories': False,\n",
            " 'iab_categories_result': {},\n",
            " 'id': 'c765e061-e1bf-4b53-b7a9-83e513d3492f',\n",
            " 'is_deleted': None,\n",
            " 'language_code': 'en_us',\n",
            " 'language_confidence': None,\n",
            " 'language_confidence_threshold': None,\n",
            " 'language_detection': False,\n",
            " 'language_model': 'assemblyai_default',\n",
            " 'multichannel': False,\n",
            " 'punctuate': True,\n",
            " 'redact_pii': False,\n",
            " 'redact_pii_audio': False,\n",
            " 'redact_pii_audio_quality': None,\n",
            " 'redact_pii_policies': None,\n",
            " 'redact_pii_sub': None,\n",
            " 'sentiment_analysis': False,\n",
            " 'sentiment_analysis_results': None,\n",
            " 'speaker_labels': False,\n",
            " 'speakers_expected': None,\n",
            " 'speech_model': None,\n",
            " 'speech_threshold': None,\n",
            " 'speed_boost': False,\n",
            " 'status': 'queued',\n",
            " 'summarization': False,\n",
            " 'summary': None,\n",
            " 'summary_model': None,\n",
            " 'summary_type': None,\n",
            " 'text': None,\n",
            " 'throttled': False,\n",
            " 'topics': [],\n",
            " 'utterances': None,\n",
            " 'webhook_auth': False,\n",
            " 'webhook_auth_header_name': None,\n",
            " 'webhook_status_code': None,\n",
            " 'webhook_url': None,\n",
            " 'word_boost': [],\n",
            " 'words': None}\n",
            "waiting for 60 sec\n",
            "waiting for 60 sec\n",
            "Transcript saved\n"
          ]
        }
      ],
      "source": [
        "if __name__ == \"__main__\":\n",
        "  # audio, thumbnail, podcast_title, episode_title = get_episode_audio_url(\"20bf194224434ebbba8462ea8136cc3d\")    #here is also present the episode id which give podcast details\n",
        "  # # print(audio, thumbnail, podcast_title, episode_title)\n",
        "  # transcribe_id = transcribe(audio, auto_chapters=True)\n",
        "  # result = poll(transcribe_id, audio=audio, thumbnail=thumbnail, podcast_title=podcast_title, episode_title=episode_title)\n",
        "  pipeline(\"20bf194224434ebbba8462ea8136cc3d\")"
      ]
    },
    {
      "cell_type": "code",
      "execution_count": null,
      "metadata": {
        "id": "pNs0ytMdNsZj"
      },
      "outputs": [],
      "source": [
        "# Step 2: Import the required libraries\n",
        "import torch\n",
        "from transformers import BartForConditionalGeneration, BartTokenizer, pipeline\n",
        "import textwrap"
      ]
    },
    {
      "cell_type": "code",
      "execution_count": null,
      "metadata": {
        "id": "2jNxLjl3Nw_5"
      },
      "outputs": [],
      "source": [
        "# Step 3: Load pre-trained BART model and tokenizer for summarization\n",
        "bart_model = BartForConditionalGeneration.from_pretrained('facebook/bart-large-cnn')\n",
        "bart_tokenizer = BartTokenizer.from_pretrained('facebook/bart-large-cnn')\n"
      ]
    },
    {
      "cell_type": "code",
      "execution_count": null,
      "metadata": {
        "id": "IKo414_rN0_T"
      },
      "outputs": [],
      "source": [
        "# Load pre-trained BERT model for summarization\n",
        "bert_summarizer = pipeline(\"summarization\", model=\"facebook/bart-large-cnn\")\n"
      ]
    },
    {
      "cell_type": "code",
      "execution_count": null,
      "metadata": {
        "id": "3vA_fqPjN7Ut"
      },
      "outputs": [],
      "source": [
        "# Function to read the transcribe.txt file\n",
        "def read_transcript(file_path='transcript.txt'):\n",
        "    with open(file_path, 'r') as f:\n",
        "        transcript_text = f.read()\n",
        "    return transcript_text\n"
      ]
    },
    {
      "cell_type": "code",
      "execution_count": null,
      "metadata": {
        "id": "-XGV8nUiN-l1"
      },
      "outputs": [],
      "source": [
        "# Function to save the summary to a text file\n",
        "def save_summary_to_file(summary, model_name):\n",
        "    with open(f\"{model_name}_summary.txt\", 'w') as f:\n",
        "        f.write(summary)\n"
      ]
    },
    {
      "cell_type": "code",
      "execution_count": null,
      "metadata": {
        "id": "ay2yZOBrOBCd"
      },
      "outputs": [],
      "source": [
        "# Step 4: Function to summarize text using BART\n",
        "def generate_bart_summary(text):\n",
        "    inputs = bart_tokenizer.encode(\"summarize: \" + text, return_tensors=\"pt\", max_length=1024, truncation=True)\n",
        "    summary_ids = bart_model.generate(inputs, max_length=150, min_length=40, length_penalty=2.0, num_beams=4, early_stopping=True)\n",
        "    bart_summary = bart_tokenizer.decode(summary_ids[0], skip_special_tokens=True)\n",
        "    return bart_summary\n"
      ]
    },
    {
      "cell_type": "code",
      "execution_count": null,
      "metadata": {
        "id": "4yO6-NkkOfLF"
      },
      "outputs": [],
      "source": [
        "# Step 5: Function to summarize text using BERT (chunked)\n",
        "def generate_bert_summary(text):\n",
        "    summary_chunks = []\n",
        "    for chunk in chunk_text(text):\n",
        "        summary = bert_summarizer(chunk, max_length=150, min_length=40, do_sample=False)\n",
        "        summary_chunks.append(summary[0]['summary_text'])\n",
        "    return \" \".join(summary_chunks)  # Combine all chunk summaries"
      ]
    },
    {
      "cell_type": "code",
      "execution_count": null,
      "metadata": {
        "id": "zLMfLUj_ODqh"
      },
      "outputs": [],
      "source": [
        "# Step 6: Function to chunk large texts\n",
        "def chunk_text(text, max_length=1000):\n",
        "    # Split the text into manageable chunks\n",
        "    return textwrap.wrap(text, width=max_length)\n"
      ]
    },
    {
      "cell_type": "code",
      "execution_count": null,
      "metadata": {
        "colab": {
          "background_save": true
        },
        "id": "4yH0j55NPLcm",
        "outputId": "36361bab-3e38-45a3-b2d5-278216299a32"
      },
      "outputs": [
        {
          "name": "stdout",
          "output_type": "stream",
          "text": [
            "\n",
            "Abstractive BART Summary:\n",
            " Indie Hackers is a podcast from Courtland from indiehackers.com. Courtland: I'm doing an episode on cryptocurrencies, specifically nfts. \"I am convinced that there's a possibility that nfts could be the future of the web\" This episode is for entertainment purposes only. Nothing contained in this episode is financial advice. Do not take what we're saying as advice to go out and buy a bunch of crypto. Do your own research. \"If I were to tell anyone how to make money like level one, buy the coins. Just buy like $100 a week,\" he says. \"Defi is a very lucrative thing. And nfts are very lucrative\" Start with level one. Get a Coinbase account, the proper regular Coinbase account. You want to do it with Robinhood, do it. They give you the features to do that too. Level two is just a very hard gate. \"I have a couple friends now in the space one of them is 23 years old. He's a systems engineer in Utah, and he made half a million dollars this year trading nfts\" \"You can't deny this. This is what's happening, right? There's Ponzi to it\" \"It is a giant Ponzi scheme, just like money. And if you don't understand that money's like that, I'm sorry\" \"We're just able to do this in a way that's like, all over the place and everywhere, right? And, like, it's everywhere around you\" Mubs founder says he was skeptical about nfts at first. He says nfts lie on the bedrock of a lot more complex tokens and crypto and blockchains. \"It's a little hard to see, I think, why they're even new or useful compared to technology we already have\" Web three is the evolution of how we host and we do infrastructure kind of online. Now it's just kind of hosted in the cloud, but it's not even a cloud that we own or rent. And the cloud just runs sort of our applications and stuff like that. So it's the next evolution, I think. We have been able to put our websites and our data and host all the stuff we create online in the cloud, so to speak. But really it's just like Amazon servers or Google servers or some centralized servers that some big company owns somewhere. If they don't like porn and they want to be the moral police and you are a porn star with your porn website or something, they can just delete you or block your access. No one computer has any control over all of it. Everybody's doing a lot of computationally expensive work to keep each other in sync. It's like, for the first time, we're building things in this mystical place called the Internet. The entire thing's a scam. As long as you can understand how to work your way around the scam and exist within the rules of the scam, everybody's happy. The hard part is just identifying which are the least scammy bits of it. \"I saw literal innovation way faster than any startup category I've ever seen,\" he says. \"What you're doing is trying to play and enjoy yourself while you're kind of playing along as well\" I wouldn't tell anybody today, hey, go invest your time in nfts. I think it's very tough to get into nfts unless you're willing to spend a lot of time. At the end of the day, people get high watching number go up. They get high on it. Summarize: then they think something's going down. So then they go ape in, as they call it, which means they go buy a bunch of them. That's what aping in means. Just, just to give you guys some terminology. Ledger is just something that tracks transactions. And these transactions and blockchains usually occur in tokens. These tokens are fungible, which means you don't really care about any individual token. A non fungible token is different. In a way, like fungible tokens, like bitcoin and ethereum represent digital currency. They're just like dollars. Every one is individual, just like real world items. And so now what does this enable? Well, now we can do more than just store bitcoin. \"I just thought, this doesn't make any sense. It's stupid,\" he says. \"I kind of missed the boat because he didn't look into it,\" he adds. \"What helped me get over my skepticism is understanding the underlying technology\" We're just in the very early days where we're not really sure what digital property should be. Digital property traditionally hasn't had this kind of functionality. Like, if I create a tweet, that's digital property, but it's kind of shitty digital property. NFTs can represent digital property on the blockchain. NFTs enable digital property to have all of these kind of cool things that real world property can have. Now you can own it because it's in your blockchain wallet. summarize: all the items in there. They can see all of the upvotes you've gotten on Reddit or all the tweets you've tweeted on Twitter. And then they can represent those digital assets inside their app or their website or their game. I think that's still a long ways away, but maybe not that long. Like, you've seen things like Fortnite and League of Legends and stuff where you can buy skins and power ups and pets that follow you around while you're playing those things. And the big problem with those things is that whatever you buy is locked into that platform, right? We can access them from anywhere, enables us to open up the world a little bit where if I build a game, I can now use anybody's NFT inside of my own platform. I think how far away are we from a AAA game enabling that? We're probably a ways away from that. But the indie makers are out there working on this stuff. Deso and decentralized is now I can make a post, it's now public on the deso blockchain. If anybody wants to access all the things that I've posted, they can because it's public. And it opens up the social media now to kind of lots more things as well. I think it has huge implications to how e commerce works, how commerce works not just in this online world, but also it will start to impact the sort of real world as well. I mean, we're talking about things that go beyond art, that go Beyond collectibles. I was in your room for ten minutes the other day and I had no idea what anybody was talking about. It just sounded like I stepped in a teleporter to the future for a minute and it was crazy. So I've been running weekly spaces that are about kind of nfts and are really friendly to newcomers. NFTs and what we're doing today is a killer use case. You own it. People can right click save it and there's now a torrent like search engine for finding them. A lot of people with nfTs think, oh, like, you know, it's all digital. Couldn't somebody just copy what you have? Like, if you have an NFT copy of a piece of art or NFT representation of an email, couldn't someone just take a screenshot of that and now they own it too? Anyone can get an NFT copy of, let's say, a tweet and see that. Like, it was actually Twitter who issued me that NFT. So that's ownership. The second thing is basically something that I think people, they kind of miss. Des Bryant has created an NFT that gives you access to basketball games, pregame stuff, and more importantly, most importantly, his birthday parties. \"This is like what the Internet was made for. This is like when I was eight years old,\" Bryant says. \"I think you got to take this stuff from that lens, otherwise you're going to worry too much about what doesn't exist or what does exist,\" he says. \"Our ability to have ownership over digital property is now, like, stamped. It's done. That tweet is your tweet,\" he adds. \"I was like, yeah, but nobody cares. So what, you're renting your tweets, like, who gives a shit? Like, what's the upshot? It doesn't really matter that much,\" he says. I think that's the thing with tweets. With me, it's not just tweets. It could be with posts on Facebook and Instagram and all those kind of things. But I think it has to do with who cares? Like we said, 90% of the people don't care because they're there to consume the content. It's the 10% who post the content that matters. I don't necessarily see a world in which people abandon Twitter or current social networks en masse because they don't own their stuff. I think for the most part, we're pretty much happy with it. But I dosee a world where people, bottom up, start using new apps and new websites and new games that have this cool additional NFT based functionality as part of them. And I can see a path, and it's not 100% guaranteed. I can see a path where companies like Twitter are like, you know what? We're going to give you an NFT for every tweet that you've made. And essentially we create this world full of digital goods and digital property that we can all carry around with us. And that, to me, is pretty revolutionary in ways that are hard to even predict or describe. The local supermarket will always exist. Instagram and Twitter and Facebook or whatever will continue to exist. Just like with Snapchat and TikTok, there was a new generation of content creators. They had this new idea about how to engage. There's going to be a new class of application that involves those nfts that you can't do in the existing platforms. Internet visionaries see a future of telecommuting workers and interactive libraries and multimedia classrooms. A computer expert predicted the rise of the Internet 20 years ago, but he was wrong. \"It just goes to show that even if you're very savvy, these futuristic predictions that are extremely accurate might look inaccurate at the time,\" he says. The ownership of the digital assets in the video game industry is an absolute certainty in my mind. I think that trend is something that will continue a long way. I also think things like sports collectibles and things that, again, it's a trend that's already started. The digital collection thing to me is so interesting because it's like, for whatever reason, I found it unconvincing that it would stay and I wouldn't bet against it. It seems to me like there's this market of buyers and sellers, and you can make a lot of money if you know your way around and you know what's going on. People are still going to be following the NFL next year and the year after that. There's nothing stopping them, right? Like, all of the ledger is already public. It depends on the technology versus, we know with the public ledger. The NBA, the NFL, NHL, English, English Premier League soccer, the World cup, those kind of assets that people really care about, will continue to purchase them every year. Art not going anywhere, sports not going away, collectibles not going to going anywhere. The technology might change, it might be cards, it may be nfts. It might be on Ethereum, itmight be on some other blockchain. Keaton: I don't like to think about the future from a prediction standpoint because people get really dreamy when you start doing that. Mark Cuban is totally on top of this, accepting dogecoin and just like getting on it. The NFT projects are in the Facebook apps phase, right? It might all disappear. I don't think it will, but it might have. And Facebook apps, I said disappeared. The first phase of Facebook apps was. The second phase was people making quiz makers, right, for everyone to make quizzes. And then the third phase for everyone that got to there. Not many companies, because, you know, it is Facebook and they own the platform, was like, Spotify. \"It's hard to see how some of these cases are kind of obvious, but some of the use cases are sort of unimaginable,\" he says. \"Why not turn your assets into NFTs if you can, and then other people can use them and connect to them\" Summarize: that game because the game was so epic. Maybe someone's retiring. You could get all those people that were there that had that shared experience back ten years from now. You cannot do that today. There's no ledger. I don't know who was at the game. \"It's an enabling technology. That's what it boils down to. Up to now, we have to rely on other people to be able to prove things right,\" he says. \"And so it's like, why do people have my records?\" If I actually painted a painting right now and then I sold it to somebody else, that's the only time I can really make any money from it. Somebody can sell it to. somebody else and I can make a percentage. And they can sale it to someone else. and I'll still make apercentage. \"I've made more money in secondary sales than I made from the initial sales of the NFTs in the first place\" \"It's opened that kind of opportunity up now to everybody on the planet\" \"I think that to me is really interesting as well\" There's a lot of advantages to turning those digital items into NFTs. You sort of unlock a bunch of functionality that you don't have to code manually. For example, you get the sort of long lasting nature where these items are never going to disappear. The items you put on the blockchain as NFTs are portable because the blockchain is publicly accessible. Any other website or app or game can look inside your users wallets and they can use them. And you don't have to build some sort of proprietary API to make that happen. NFTs are programmable and so you can say, hey, I want a percentage of every sale in perpetuity. You can't do that with physical goods. With real world items, you sell an item once you get the money and that's it. The first version of the web in the nineties was about finding information. Today, NFTs have all these advantages over siloed digital goods. And I think there's just kind of this trend with the web. It's increasingly about money. Early users of crypto projects are rewarded in tokens. These tokens are worth money, similar to people buying nfts that often become worth money. And that turns them into evangelists, because they see an avenue for them to make a lot of money. The marketing they do is just not traditional marketing. It's community marketing. So it's in their discords. You're sending messages in discord. You have an announcements channel, you have a news channel. The only time that I saw such a tight feedback loop, whether it's NFTs or whatever, was clubhouse. I'm literally, I was jealous. And then I saw nfts and all this, and I'm like, holy crap. Like, discord is actually the marketing. Twitter is the realization of that marketing, which is essentially the channel, right? So it's almost like discord is the medium. And there's just a loop there. And then the substance is the cryptocurrency, the NFT project or whatever, and you're just playing with that. And that's the model. The NFT has created a decentralized, autonomous organization, which is essentially a governance model in this space. And the whole idea of that is we're voting by committee. There might even be, if you want to go crazy with this, like sports teams that are just Dax. In the new web three way of thinking, this sort of marketing, the community is the marketing kind of at that point. And I'm only saying that because that's the aspect of where, if you want to think about the future. People promote an asset that they own or kind of already as well. The company doesn't have to go spend its own money to get more people to go purchase the thing. So it's that alignment of kind of incentives that kind of make that possible. The communities wouldn't do that in the old web two world. People are funding their enterprises through an NFT sale. People aren't going to venture capital to go raise money so they can build a video game. So it's changing who owns it. It's not some venture capital in Silicon Valley or LA or something who kind of owns the sort of rights. NFTs are a new way to invest in the future of video games. The idea is that the people who own the rights to the games can share in the upside as well. NFTs could be used to fund projects and start new businesses. I'm interested in the whole DeFi space because it changes. The financial models of the world are going to change. Whether it's an NFT or a DeFi project or you do something like an ICO at some point or ever. In a future DeFi world, people can stake their ethereum and their bitcoin with us, and we can use that as funds that we can lend out. We won't need to go find a big indowment or a big pension fund. That is going to give us lots of money. There will be some regulations from the SEC and the Federal Reserve. At some point, all those things will be resolved. Here's what I would like to see with NFTs in particular. If a founder goes to founder Path and they they can just get it from all over the space. From 100,000 higher, someone raises 500k from founder Path, right? I want you guys to issue them an NFT that says they're part of the 500k club. And then on indie hackers, I want to be able to like, look at someone's wallet when they join and just show a little badge on their product. Summarize: get posting privileges, et cetera. Like, I would love to just see a world where almost everything is represented as an NFT. And that tells me something about the identity of the people who come to my website. \"I'd love it if that was on the public chain, if you could just put all of your history, the places that you work, all the skills that you've accumulated over the years\" \"It takes time to kind of, because those are old, established industries and technologies that are just going to, it's going to take time for them to wake up\" Google is working on a tool to help people understand all the documents that exist in their Google workspace. Heaton: This is basically designed to prevent leaks and stuff like that. He says the company has a document heavy culture, and so we just make sure we don't leak anything. summarize: that, you know, the gates to that content are closed and managed and all that. So we built something to do it. In terms of this question you have, I'm deep in this and I'm not doing anything with it in my business, just to be clear. \"I'm happy to be proven wrong. If you have something good that anyone, any SaaS business can do, please bring it,\" he says. \"It's about this idea of, I have data, it's my data\" If there's an experience where the wallet can be authenticated and you could do something as a result of that in your SaaS app, depending on what it is. Probably more consumer use cases today. Now, if you're really early or you have time, resources and you want to think about this, think about what exists on the blockchain. The biggest utility right now around that, believe it or not, is taxes. I want to connect them for taxes. That's the key. Because like that's a problem. It's a big paid, it's still not solved. SaaS founders have something at scale. Mubs, though, it's kind of in the middle where he's got something and he's trying to figure out how to fund it. NfTs, crypto, it could do something for you, right? Once you figure it out. Simple idea with the community is people can tip each other with crypto somehow. Is does someone already have a wallet or not? Do they have they already jumped through those hoops? And if they haven't, is it your job to train them? Do you want them to? MFT is a service that powers all those dot eta domains that you see on Twitter. Any member who's active enough can get an invite, instant invite somebody else. This is like sort of very a web 2.0 way of doing it. The token drop was the only NFT. They did look. Or lenienclaim as ASAP. So they just. I think it was a 2.5 billion in valuation when they dropped it. And so you have a vibrant community. The concept is called social tokens. If you bought it early enough, you can claim them. They stopped at a certain date. So if it was after that date, you don't get any. But, like, at the end of the day, I think we're gonna see more of this. Cortlandt: What next? You've said buy crypto, but what next? Is there a particular website they should trust? Where do you go if you want to put in this hundred hours of learning? Summarize: really doing it for savings long term, don't put a lot of money in there. If you're worried about the money you're putting in, of course, not financial advice, but it's Coinbase or Robinhood is safe. \"I do think he's crazy in a lot of ways, but he's trustworthy,\" says Muds. \"Find a buddy. When we're in the noob spaces, which is about once a week, it's on a Tuesday night\" You have to look for the people who've built up a following, who have horrified maybe as well. There unfortunately isn't one good place to go. If there was, I think they'd be making a lot of money right now. I think, you know, just from a purely indie hacker standpoint, there is still a massive, massive opportunity to sell picks and shovels and all the other things that go into this space with smart contracts. There's lots of tooling and things that need to be built if you're looking for an idea to work on right now. Those are the kind of, there's so many different ideas and opportunities that you can build. SaaS tools allow the people in the space to interact with each other in a more efficient and manageable way. I think there's lots of opportunities there without even exposing yourself to the risk of which coin am I supposed to buy? summarize: working on founderpath, so that's founderpath.com and you can find me on Twitter and all the usual social media places at habashsharikbal.com. Everything's linked from there. \n"
          ]
        },
        {
          "name": "stderr",
          "output_type": "stream",
          "text": [
            "Your max_length is set to 150, but your input_length is only 83. Since this is a summarization task, where outputs shorter than the input are typically wanted, you might consider decreasing max_length manually, e.g. summarizer('...', max_length=41)\n"
          ]
        },
        {
          "name": "stdout",
          "output_type": "stream",
          "text": [
            "\n",
            "Extractive BERT Summary:\n",
            " Indie Hackers is a podcast from Courtland from indiehackers.com. Courtland: I'm doing an episode on cryptocurrencies, specifically nfts. \"I am convinced that there's a possibility that nfts could be the future of the web\" Nothing contained in this episode is financial advice. Do not take what we're saying as advice to go out and buy a bunch of crypto. This episode is for entertainment purposes only. Enjoy. If I were to tell anyone how to make money like level one, buy the coins. Do some research, figure out the ones you want to buy. If you just want a high level, buy bitcoin, ethereum, buy like $100 a week, whatever you can afford. Get a Coinbase account, the proper regular Coinbase account. You want to do it with Robinhood, do it. They give you the features to do that too. That's level one. Level two is just a very hard gate, but level two is decentralized finance, which means you buy the token. \"I have a couple friends now in the space one of them is 23 years old. He's a systems engineer in Utah, and he made half a million dollars this year trading nfts\" \"You can't deny this. This is what's happening, right? And yes, there's Ponzi to it\" \"It is a giant Ponzi scheme, just like money. And if you don't understand that money's like that, I'm sorry\" \"We're just able to do this in a way that's like, all over the place and everywhere, right? And, like, it's everywhere around you\" Mubs founder says he was skeptical about nfts at first. He says nfts lie on the bedrock of a lot more complex tokens and crypto and blockchains. \"It can be hard to understand whether or not these are just a passing fad or they're worth investing your time and money into\" Web three is the evolution of how we host and we do infrastructure kind of online. Now it's just kind of hosted in the cloud, but it's not even a cloud that we own or rent. And the cloud just runs sort of our applications and stuff like that. So it's the next evolution, I think. We have been able to put our websites and our data and host all the stuff we create online in the cloud, so to speak. But really it's just like Amazon servers or Google servers or some centralized servers that some big company owns somewhere. If they don't like porn and they want to be the moral police and you are a porn star with your porn website or something, they can just delete you. No one computer has any control over all of it. Everybody's doing a lot of computationally expensive work to keep each other in sync. \"For the first time, we're actually building things in this mystical place called the Internet,\" he says. The entire thing's a scam. As long as you can understand how to work your way around the scam and exist within the rules of the scam, everybody's happy. And the hard part is just identifying which are the least scammy bits of it. \"I saw literal innovation way faster than any startup category I've ever seen,\" he says. \"You just have to accept the fact that sometimes things fail and sometimes people try and scam you\" I wouldn't tell anybody today, hey, go invest your time in nfts. I think it's very tough to get into nfts unless you're willing to spend a lot of time. At the end of the day, people get high watching number go up. They get high on it. NFT is a non fungible token. It's essentially digital property. Think about fungible tokens. They exist on the blockchain, which I mentioned earlier. Then they think something's going down. So then they go ape in, as they call it. That's what aping in means. A decentralized ledger is just something that tracks transactions. These transactions and blockchains usually occur in tokens. These tokens are fungible, which means you don't really care about any individual token. A non fungible token is different. In a way, like fungible tokens, like bitcoin and ethereum represent digital currency. They matter. It matters which kids you get back from the daycare center. And so now we have this new situation where we can do more than just store bitcoin and other forms of digital money. Now we can store digital items. \"I just thought, this doesn't make any sense. It's stupid,\" he says. \"I kind of missed the boat because he didn't look into it,\" he adds. \"What helped me get over my skepticism is understanding the reality\" We're just in the very early days where we're not really sure what digital property should be. No digital property really has ever been that useful. And so we never even talk about digital property. NFTs represent digital property on the blockchain. NFTs enable digital property to have all of these kind of cool things that real world property can have. Now you can own it because it's in your blockchain wallet. \"It enables a degree of connectivity that is pretty revolutionary\" \"It's really hard to understand, like, or even predict where this is gonna go\" \"What kinds of new apps and new websites are we going to see as a result of this?\" I think that's still a long ways away, but maybe not that long. Like, you've seen things like Fortnite and League of Legends and stuff where you can buy skins and power ups and pets that follow you around while you're playing those things. And the big problem with those things is that whatever you buy is locked into that platform. And I think that is where the technology of NFTs, having this hedger that we can put assets onto and this sort of social networking side of things. I think that technology is all there. I think how far away are we from a AAA game enabling that? We're probably a ways away from that. But the indie makers are out there working on this stuff. Will those indies become triple a hated games at some point? Deso and decentralized is now I can make a post, it's now public on the deso blockchain. If anybody wants to access all the things that I've posted, they can because it's public. And it opens up the social media now to kind of lots more things as well. \"I think, again, it's more than just nfTs,\" Heaton says. \"There's so many things that if we can track who posted them onto the ledger, you know, which, which key signed it, and we can kind of track that\" I was in your room for ten minutes the other day and I had no idea what anybody was talking about. It just sounded, it sounded like I stepped in a teleporter to the future for a minute and it was crazy. There's all this utility and cool stuff in there. NFTs and what we're doing today is a killer use case. You own it. People can right click save it and there's now a torrent like search engine for finding them. You could verify ownership. A lot of people with nfTs think, oh, like, you know, it's all digital. Couldn't somebody just copy what you have? Like, if you have an NFT copy of a piece of art or NFT representation of an email or a college degree, couldn't somebody take a screenshot of that and now they own it too? That's not how it works. NFTs allow you to put items in your wallet on the blockchain and for people to verify who it came from and see that it's actually real. So that's ownership. The second thing is basically something that I think people, they kind of miss, and you guys said it in passing, but they missed this. Des Bryant has created an NFT that gives you access to basketball games, pregame stuff, and more importantly, most importantly, his birthday parties. \"The reason I'm into this has nothing to do with anything except sense of belonging,\" Bryant says. \"That tweet is your tweet. If it was built in, if it was backed by the blockchain, I'm not saying that means that the tweet isn't yours today,\" he says. \"You're, like renting it today, right? Twitter owns it. They allow you to come and see it and access it and whatever\" \"I was like, yeah, but nobody cares. So what, you're renting your tweets, like, who gives a shit?\" he said. \"It's because it's not about tweets if you don't own it\" I think it's gonna be a while, but that's iteration. But whatever the future ownership model is and the fact that you can take this stuff across sites and all that stuff, that's what's up. With me, it's not just tweets. It could be with posts on Facebook and Instagram and all those kind of things. But I think it has to do with who cares? Twitter's NFT allows users to control their content from anywhere in the world. Users can control what they post, when, and how it's viewed. The company is working on a new version of the app that will allow users to share content with friends and family. I can see a path where two, three years from now, companies like Twitter are like, you know what? We're going to give you an NFT for every tweet that you've made. And essentially we create this world full of digital goods and digital property that we can all carry around with us. That, to me, is pretty revolutionary in ways that are hard to even predict or describe. For a large amount of the population, there's certain things that they just don't care about and whether, and it's going to be where, wherever the popular people are posting, that's where they will be. But the local supermarket will always exist. Internet visionaries see a future of telecommuting workers and interactive libraries. They speak of electric town meetings and virtual communities. Commerce and business will shift from offices and malls to networks and modems. A computer expert predicted that e commerce would be dying. He was wrong. Even if you're very savvy, these futuristic predictions that are extremely accurate might look inaccurate at the time. And so I'm curious, what do you guys have as your wildest futuristic predictions for nfts? The ownership of the digital assets in the video game industry is an absolute certainty in my mind. I think that trend is something that will continue a long way. I also think things like sports collectibles and things that, again, it's a trend that's already started. The digital collection thing to me is so interesting because it's like, for whatever reason, I found it unconvincing that it would stay and I wouldn't bet against it. But it seems to me like there's this market of buyers and sellers, and you can make a lot of money if you know your way around. \"I have no freaking clue of what's going to happen with there. But it's the thing that you're buying, which is the important bit,\" he says. \"People are still going to be following the NFL next year and the year after that\" It still depends on what youre buying. Are people still going to be buying apes next year? I have no freaking clue. But if you're talking about things that people care about, things like the NBA, the NFL, NHL, English, Premier League soccer, the World cup, those kind of assets that people really care about then yes, they will continue to purchase them every year. Keaton: I don't like to think about the future from a prediction standpoint because people get really dreamy when you start doing that. Mark Cuban is totally on top of this, accepting dogecoin and just like getting on it. The NFT projects are in the Facebook apps phase, right? It might all disappear. I don't think it will, but it might have. And Facebook apps, I said disappeared. The first phase of Facebook apps was. The app is in its third phase of development. It's just cyclical, but nobody knows what the sequence is or what's going to happen next, but tickets and access hit those three vectors, right. \"It's hard to see how some of these cases are kind of obvious, but some of the use cases are sort of unimaginable,\" he says. \"Why not turn your assets into NFTs if you can, and then other people can use them and connect to them\" \"It's a crazy idea, but it'll. happen. Some form of that. Kind of, like, revisiting the past, right? Bringing it back, having events related to the fact that there was an event and something epic happened\" \"It's an enabling technology. That's what it boils down to. Up to now, we have to rely on other people to be able to prove things right,\" he says. \"And so it's like, why. Why do people have my records?\" If I actually painted a painting right now and then I sold it to somebody else, that's the only time I can really make any money from it. and I can then access it whenever I want to. And then I can make money from selling it to someone else as well. Mubs: I've made more money in secondary sales than I made from the initial sales of the NFTs in the first place. You don't have to be a member of SAG and all of those kind of things and then go act in a big Hollywood movie to be able to get that residual income anymore. Anybody can do that now. There's a lot of advantages to turning those digital items into NFTs. You sort of unlock a bunch of functionality that you don't have to code manually because the blockchain has that functionality embedded. And plus, that stuff will outlive your company. The items you put on the blockchain as NFTs are portable because the blockchain is publicly accessible. You don't have to build some sort of proprietary API to make that happen. And that's super cool because it means you don't need to build a marketplace and hope people use it. NFTs are programmable and so you can say, hey, I want a percentage of every sale in perpetuity. With real world items, you sell an item once you get the money and that's it. You can't do that with physical goods. The first version of the web in the nineties was about finding information. Today, NFTs have all these advantages over siloed digital goods. And I think there's just kind of this trend with the web. It's increasingly about money. Early users of crypto projects are rewarded in tokens. These tokens are worth money, similar to people buying nfts that often become worth money. And that turns them into evangelists, because they see an avenue for them to make a lot of money. \"The marketing they do is just not traditional marketing. It's community marketing. So it's in their discords. And I mean, like, as many as I could find. He's wrong, though. Like, the way they're doing marketing is community marketing\" The only time that I saw such a tight feedback loop, whether it's NFTs or whatever, was clubhouse. that is not to prove him right or wrong. It doesn't matter. But to say that the marketing that has to happen on these things is so aligned with the customer, it's insane. Twitter is the realization of that marketing, which is essentially the channel, right? So it's almost like discord is the medium. And there's just a loop there. And then the substance is the cryptocurrency, the NFT project or whatever, and you're just playing with that. And that's the model. The NFT has created a decentralized, autonomous organization, which is essentially a governance model in this space. And the whole idea of that is we're voting by committee. There might even be, if you want to go crazy with this, like sports teams that are just Dax. In the new web three way of thinking, this sort of marketing, the community is the marketing kind of at that point. And still there's so much speed and so much audience to grab that it is relatively easy if you have a decent idea. In the old web two world, companies needed to advertise to get people to go spend on their website. In the NFT world, people promote it because it's in their best interest to promote an asset that they own. People are funding their enterprises through an NFT sale. People aren't going to venture capital to go raise money so they can build a video game. So it's changing who owns it. It's not some venture capital in Silicon Valley or LA or something who kind of owns the sort of rights to this thing. It's changing who owns what we're going to do for the next five or ten, 2000 years, right? It's finally going to break the monopoly of. There's like a handful of companies that own all the media. All the video games that we play are now going to be controlled by the people actually play them, which I think is really amazing. I'm interested in the whole DeFi space because it changes. The financial models of the world are going to change. Whether it's an NFT or a DeFi project or you do something like an ICO at some point or ever. In a future DeFi world, people can stake their ethereum and their bitcoin with us, and we can use that as funds that we can lend out. That is going to give us lots of money. There will be regulations from the SEC and the Federal Reserve and all those kind of things in terms of what's allowed and what's not allowed. At some point, all those things will be resolved. Here's what I would like to see with NFTs in particular. From 100,000 higher, someone raises 500k from founder Path, right? I want you guys to issue them an NFT that says they're part of the 500k club and just put that in their crypto wallet. You don't even care if they're gonna use that for. They just have representation that they did that. And then on indie hackers, I want to be able to like, look at someone's wallet when they join and just show a little badge on their product. I would love to just see a world where almost everything is represented as an NFT. That tells me something about the identity of the people who come to my website because they're bringing all of that data with them, rather than that data being locked away. If you could get from somewhere nft for each one of those skills that you had for all the places that you work. would love it if that was on the public chain. It takes time to kind of, because those are old, established industries and technologies. It's going to take time for them to wake up to what the new reality is. Google is working on a security tool for file storage. Heaton: It helps people understand, like, all the documents that exist in their Google workspace. He says it's designed to prevent leaks and stuff. In terms of this question you have, I'm deep in this and I'm not doing anything with it in my business, just to be clear. There's a couple things I've seen that are like, oh, interesting. And this is what I hear from founders today, because they think crypto is like an add on. \"I'm happy to be proven wrong. If you have something good that anyone, any SaaS business can do, please bring it,\" he says. \"I'm in all the world. And again, if anyone would tell you if there was something, it would be me\" If there's an experience where the wallet can be authenticated and you could do something as a result of that in your SaaS app, depending on what it is. Probably more consumer use cases today. Now, if you're really early or you have time, resources and you want to think about this, think about what exists on the blockchain. The biggest utility right now around that, believe it or not, is taxes. I want to connect them for taxes. That's the key. Because like that's a problem. It's a big paid, it's still not solved. SaaS founders have something at scale, like product market fit, and I'm going after it. Mubs, though, it's kind of in the middle where he's got something and he's trying to figure out how to fund it. Simple idea with the community is people can tip each other with crypto somehow. Is does someone already have a wallet or not? Do they have they already jumped through those hoops? And if they haven't, is it your job to train them? Do you want them to? MFT is the. service that powers all those dot eta domains that you see on Twitter. Any member who's active enough can get an invite, instant invite somebody else. This is like sort of very a web 2.0 way of doing it. The token drop was the only NFT. They have points, right? Or not points, but up votes. You can come up with a credibility ranking model and based on what their votes and all that is, you could drop a certain number of tokens. The concept is called social tokens. If you bought it early enough, you can claim them. They stopped at a certain date. So if it was after that date, you don't get any. The power of money. Cortlandt: What next? You've said buy crypto, but what next? Is there a particular website they should trust? Where do you go if you want to put in this hundred hours of learning that Gary Vee mentioned? Coinbase or Robinhood is safe, good personal use, really good stuff. If you're worried about the money you're putting in, don't put a lot of money in there. YouTube has been like, probably one of the easiest ways. Gary V. Stern: Find a buddy. If you see me on Twitter. Come on, come on. Much as you might think he's crazy, I do think he'm crazy in a lot of ways, but he's trustworthy. You have to look for the people who've built up a following, who have horrified maybe as well. There unfortunately isn't one good place to go. If there was, I think they'd be making a lot of money right now. There is still a massive opportunity to sell picks and shovels and all the other things that go into this space with smart contracts. There's lots of tooling and things that need to be built if you're looking for an idea to work on right now. I think there's lots of opportunities there without even exposing yourself to the risk of which coin am I supposed to buy? Just go build your SaaS for the people in the space. One thing that you can probably have faith in is that there's going to be a lot of crypto nuts who love crypto, who want to build stuff. And so if you build tools for them, like, they're not going anywhere. I'm on Twitter. I'm on founderpath.com and you can find me on Twitter and all the usual social media places at habashsharikbal.com. All right, thanks much for me.\n"
          ]
        }
      ],
      "source": [
        "if __name__ == \"__main__\":\n",
        "    # Read the transcript file\n",
        "    transcript_text = read_transcript()  # Ensure transcribe.txt is in the same directory\n",
        "\n",
        "    # Chunk the transcript for summarization\n",
        "    text_chunks = chunk_text(transcript_text)\n",
        "\n",
        "    # Generate and save summaries using BART (abstractive)\n",
        "    bart_full_summary = \"\"\n",
        "    for chunk in text_chunks:\n",
        "        bart_summary = generate_bart_summary(chunk)\n",
        "        bart_full_summary += bart_summary + \" \"  # Combine the summaries\n",
        "\n",
        "    print(\"\\nAbstractive BART Summary:\\n\", bart_full_summary)\n",
        "    save_summary_to_file(bart_full_summary, \"bart\")\n",
        "\n",
        "    # Generate and save extractive summaries using BERT\n",
        "    bert_full_summary = generate_bert_summary(transcript_text)  # Process the entire text in chunks\n",
        "    print(\"\\nExtractive BERT Summary:\\n\", bert_full_summary)\n",
        "    save_summary_to_file(bert_full_summary, \"bert\")"
      ]
    }
  ],
  "metadata": {
    "colab": {
      "provenance": []
    },
    "kernelspec": {
      "display_name": "Python 3",
      "name": "python3"
    },
    "language_info": {
      "name": "python"
    }
  },
  "nbformat": 4,
  "nbformat_minor": 0
}
